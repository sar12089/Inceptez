{
 "cells": [
  {
   "cell_type": "markdown",
   "metadata": {
    "collapsed": true
   },
   "source": [
    "Link to medium post: https://medium.com/@zhiwei_zhang/bitcoin-time-series-prediction-with-lstm-d3f49b1b4d00"
   ]
  },
  {
   "cell_type": "code",
   "execution_count": 1,
   "metadata": {},
   "outputs": [
    {
     "name": "stderr",
     "output_type": "stream",
     "text": [
      "Using TensorFlow backend.\n"
     ]
    }
   ],
   "source": [
    "import datetime\n",
    "import time\n",
    "import pandas as pd\n",
    "import numpy as np\n",
    "import matplotlib.pyplot as plt\n",
    "%matplotlib inline\n",
    "from sklearn.metrics import mean_squared_error\n",
    "from math import sqrt\n",
    "\n",
    "import keras\n",
    "from keras.models import Sequential\n",
    "from keras.layers import Activation, Dense\n",
    "from keras.layers import LSTM\n",
    "from keras.layers import Dropout"
   ]
  },
  {
   "cell_type": "markdown",
   "metadata": {},
   "source": [
    "###  Load data by reading table from html"
   ]
  },
  {
   "cell_type": "code",
   "execution_count": 3,
   "metadata": {},
   "outputs": [
    {
     "data": {
      "text/html": [
       "<div>\n",
       "<style scoped>\n",
       "    .dataframe tbody tr th:only-of-type {\n",
       "        vertical-align: middle;\n",
       "    }\n",
       "\n",
       "    .dataframe tbody tr th {\n",
       "        vertical-align: top;\n",
       "    }\n",
       "\n",
       "    .dataframe thead th {\n",
       "        text-align: right;\n",
       "    }\n",
       "</style>\n",
       "<table border=\"1\" class=\"dataframe\">\n",
       "  <thead>\n",
       "    <tr style=\"text-align: right;\">\n",
       "      <th></th>\n",
       "      <th>Date</th>\n",
       "      <th>Open*</th>\n",
       "      <th>High</th>\n",
       "      <th>Low</th>\n",
       "      <th>Close**</th>\n",
       "      <th>Volume</th>\n",
       "      <th>Market Cap</th>\n",
       "    </tr>\n",
       "  </thead>\n",
       "  <tbody>\n",
       "    <tr>\n",
       "      <th>0</th>\n",
       "      <td>2018-11-16</td>\n",
       "      <td>5645.32</td>\n",
       "      <td>5657.02</td>\n",
       "      <td>5498.94</td>\n",
       "      <td>5575.55</td>\n",
       "      <td>5.279320e+09</td>\n",
       "      <td>96900828780</td>\n",
       "    </tr>\n",
       "    <tr>\n",
       "      <th>1</th>\n",
       "      <td>2018-11-15</td>\n",
       "      <td>5736.15</td>\n",
       "      <td>5774.82</td>\n",
       "      <td>5358.38</td>\n",
       "      <td>5648.03</td>\n",
       "      <td>7.032140e+09</td>\n",
       "      <td>98151606541</td>\n",
       "    </tr>\n",
       "    <tr>\n",
       "      <th>2</th>\n",
       "      <td>2018-11-14</td>\n",
       "      <td>6351.24</td>\n",
       "      <td>6371.55</td>\n",
       "      <td>5544.09</td>\n",
       "      <td>5738.35</td>\n",
       "      <td>7.398940e+09</td>\n",
       "      <td>99712077259</td>\n",
       "    </tr>\n",
       "    <tr>\n",
       "      <th>3</th>\n",
       "      <td>2018-11-13</td>\n",
       "      <td>6373.19</td>\n",
       "      <td>6395.27</td>\n",
       "      <td>6342.67</td>\n",
       "      <td>6359.49</td>\n",
       "      <td>4.503800e+09</td>\n",
       "      <td>110494466204</td>\n",
       "    </tr>\n",
       "    <tr>\n",
       "      <th>4</th>\n",
       "      <td>2018-11-12</td>\n",
       "      <td>6411.76</td>\n",
       "      <td>6434.21</td>\n",
       "      <td>6360.47</td>\n",
       "      <td>6371.27</td>\n",
       "      <td>4.295770e+09</td>\n",
       "      <td>110689666528</td>\n",
       "    </tr>\n",
       "    <tr>\n",
       "      <th>5</th>\n",
       "      <td>2018-11-11</td>\n",
       "      <td>6413.63</td>\n",
       "      <td>6423.25</td>\n",
       "      <td>6350.17</td>\n",
       "      <td>6411.27</td>\n",
       "      <td>3.939060e+09</td>\n",
       "      <td>111373453740</td>\n",
       "    </tr>\n",
       "    <tr>\n",
       "      <th>6</th>\n",
       "      <td>2018-11-10</td>\n",
       "      <td>6386.13</td>\n",
       "      <td>6437.28</td>\n",
       "      <td>6385.31</td>\n",
       "      <td>6409.22</td>\n",
       "      <td>3.705320e+09</td>\n",
       "      <td>111326145314</td>\n",
       "    </tr>\n",
       "    <tr>\n",
       "      <th>7</th>\n",
       "      <td>2018-11-09</td>\n",
       "      <td>6442.60</td>\n",
       "      <td>6456.46</td>\n",
       "      <td>6373.37</td>\n",
       "      <td>6385.62</td>\n",
       "      <td>4.346820e+09</td>\n",
       "      <td>110905767441</td>\n",
       "    </tr>\n",
       "    <tr>\n",
       "      <th>8</th>\n",
       "      <td>2018-11-08</td>\n",
       "      <td>6522.27</td>\n",
       "      <td>6536.92</td>\n",
       "      <td>6438.53</td>\n",
       "      <td>6453.72</td>\n",
       "      <td>4.665260e+09</td>\n",
       "      <td>112078367037</td>\n",
       "    </tr>\n",
       "    <tr>\n",
       "      <th>9</th>\n",
       "      <td>2018-11-07</td>\n",
       "      <td>6468.50</td>\n",
       "      <td>6552.16</td>\n",
       "      <td>6468.31</td>\n",
       "      <td>6530.14</td>\n",
       "      <td>4.941260e+09</td>\n",
       "      <td>113395632955</td>\n",
       "    </tr>\n",
       "  </tbody>\n",
       "</table>\n",
       "</div>"
      ],
      "text/plain": [
       "        Date    Open*     High      Low  Close**        Volume    Market Cap\n",
       "0 2018-11-16  5645.32  5657.02  5498.94  5575.55  5.279320e+09   96900828780\n",
       "1 2018-11-15  5736.15  5774.82  5358.38  5648.03  7.032140e+09   98151606541\n",
       "2 2018-11-14  6351.24  6371.55  5544.09  5738.35  7.398940e+09   99712077259\n",
       "3 2018-11-13  6373.19  6395.27  6342.67  6359.49  4.503800e+09  110494466204\n",
       "4 2018-11-12  6411.76  6434.21  6360.47  6371.27  4.295770e+09  110689666528\n",
       "5 2018-11-11  6413.63  6423.25  6350.17  6411.27  3.939060e+09  111373453740\n",
       "6 2018-11-10  6386.13  6437.28  6385.31  6409.22  3.705320e+09  111326145314\n",
       "7 2018-11-09  6442.60  6456.46  6373.37  6385.62  4.346820e+09  110905767441\n",
       "8 2018-11-08  6522.27  6536.92  6438.53  6453.72  4.665260e+09  112078367037\n",
       "9 2018-11-07  6468.50  6552.16  6468.31  6530.14  4.941260e+09  113395632955"
      ]
     },
     "execution_count": 3,
     "metadata": {},
     "output_type": "execute_result"
    }
   ],
   "source": [
    "def get_market_data(market, tag=True):\n",
    "    market_data = pd.read_html(\"https://coinmarketcap.com/currencies/\" + market + \n",
    "                             \"/historical-data/?start=20130428&end=\"+time.strftime(\"%Y%m%d\"), flavor='html5lib')[0]\n",
    "    market_data = market_data.assign(Date=pd.to_datetime(market_data['Date']))  \n",
    "    market_data['Volume'] = (pd.to_numeric(market_data['Volume'], errors='coerce').fillna(0))\n",
    "    return market_data\n",
    "\n",
    "btc_data = get_market_data(\"bitcoin\", tag='BTC')\n",
    "btc_data.head(10)"
   ]
  },
  {
   "cell_type": "code",
   "execution_count": 5,
   "metadata": {
    "scrolled": true
   },
   "outputs": [
    {
     "data": {
      "text/html": [
       "<div>\n",
       "<style scoped>\n",
       "    .dataframe tbody tr th:only-of-type {\n",
       "        vertical-align: middle;\n",
       "    }\n",
       "\n",
       "    .dataframe tbody tr th {\n",
       "        vertical-align: top;\n",
       "    }\n",
       "\n",
       "    .dataframe thead th {\n",
       "        text-align: right;\n",
       "    }\n",
       "</style>\n",
       "<table border=\"1\" class=\"dataframe\">\n",
       "  <thead>\n",
       "    <tr style=\"text-align: right;\">\n",
       "      <th></th>\n",
       "      <th>Date</th>\n",
       "      <th>Close**</th>\n",
       "    </tr>\n",
       "  </thead>\n",
       "  <tbody>\n",
       "    <tr>\n",
       "      <th>2028</th>\n",
       "      <td>2013-04-28</td>\n",
       "      <td>134.21</td>\n",
       "    </tr>\n",
       "    <tr>\n",
       "      <th>2027</th>\n",
       "      <td>2013-04-29</td>\n",
       "      <td>144.54</td>\n",
       "    </tr>\n",
       "    <tr>\n",
       "      <th>2026</th>\n",
       "      <td>2013-04-30</td>\n",
       "      <td>139.00</td>\n",
       "    </tr>\n",
       "    <tr>\n",
       "      <th>2025</th>\n",
       "      <td>2013-05-01</td>\n",
       "      <td>116.99</td>\n",
       "    </tr>\n",
       "    <tr>\n",
       "      <th>2024</th>\n",
       "      <td>2013-05-02</td>\n",
       "      <td>105.21</td>\n",
       "    </tr>\n",
       "  </tbody>\n",
       "</table>\n",
       "</div>"
      ],
      "text/plain": [
       "           Date  Close**\n",
       "2028 2013-04-28   134.21\n",
       "2027 2013-04-29   144.54\n",
       "2026 2013-04-30   139.00\n",
       "2025 2013-05-01   116.99\n",
       "2024 2013-05-02   105.21"
      ]
     },
     "execution_count": 5,
     "metadata": {},
     "output_type": "execute_result"
    }
   ],
   "source": [
    "# only keeps date and close price\n",
    "data = btc_data[['Date']+['Close**']]\n",
    "data = data.sort_values(by='Date')\n",
    "data.head()"
   ]
  },
  {
   "cell_type": "code",
   "execution_count": 7,
   "metadata": {},
   "outputs": [
    {
     "data": {
      "image/png": "[encoded data removed]",
      "text/plain": [
       "<Figure size 432x288 with 1 Axes>"
      ]
     },
     "metadata": {},
     "output_type": "display_data"
    }
   ],
   "source": [
    "plt.plot(range(len(data['Close**'])), data['Close**'])\n",
    "plt.title('Close Price vs Time')\n",
    "plt.show()"
   ]
  },
  {
   "cell_type": "code",
   "execution_count": 9,
   "metadata": {},
   "outputs": [
    {
     "data": {
      "text/plain": [
       "array([[0.00338567],\n",
       "       [0.00391735],\n",
       "       [0.0036322 ],\n",
       "       ...,\n",
       "       [0.29182813],\n",
       "       [0.28717938],\n",
       "       [0.28344887]], dtype=float32)"
      ]
     },
     "execution_count": 9,
     "metadata": {},
     "output_type": "execute_result"
    }
   ],
   "source": [
    "# Normalize close price\n",
    "from sklearn.preprocessing import MinMaxScaler\n",
    "values = data['Close**'].values.reshape(-1,1)\n",
    "values = values.astype('float32')\n",
    "scaler = MinMaxScaler(feature_range=(0, 1))\n",
    "scaled_price = scaler.fit_transform(values)\n",
    "scaled_price"
   ]
  },
  {
   "cell_type": "code",
   "execution_count": 10,
   "metadata": {},
   "outputs": [
    {
     "name": "stdout",
     "output_type": "stream",
     "text": [
      "1420 609\n"
     ]
    }
   ],
   "source": [
    "# split data for training, testing\n",
    "train_size = int(len(scaled_price) * 0.7)\n",
    "test_size = len(scaled_price) - train_size\n",
    "\n",
    "train, test = scaled_price[0:train_size,:], scaled_price[train_size:len(scaled_price),:]\n",
    "print(len(train), len(test))"
   ]
  },
  {
   "cell_type": "code",
   "execution_count": 11,
   "metadata": {},
   "outputs": [
    {
     "name": "stdout",
     "output_type": "stream",
     "text": [
      "x_train shape (1415, 5)\n",
      "x_test shape (604, 5)\n",
      "y_train shape (1415,)\n",
      "y_test shape (604,)\n"
     ]
    }
   ],
   "source": [
    "def create_input(data,lookback):\n",
    "    inputs = []\n",
    "    for i in range(len(data) - lookback):\n",
    "        temp_set = data[i:(i + lookback),0].copy()\n",
    "        inputs.append(temp_set)\n",
    "    return np.array(inputs)\n",
    "\n",
    "def create_output(data,lookback):\n",
    "    output = []\n",
    "    for i in range(len(data)-lookback):\n",
    "        output.append(data[i + lookback, 0])\n",
    "    return np.array(output)\n",
    "\n",
    "# use lookback = 5\n",
    "x_train = create_input(train,5)\n",
    "x_test = create_input(test,5)\n",
    "\n",
    "y_train = create_output(train,5)\n",
    "y_test = create_output(test,5)\n",
    "\n",
    "print('x_train shape', x_train.shape)\n",
    "print('x_test shape', x_test.shape)\n",
    "\n",
    "print('y_train shape', y_train.shape)\n",
    "print('y_test shape', y_test.shape)\n"
   ]
  },
  {
   "cell_type": "code",
   "execution_count": 12,
   "metadata": {},
   "outputs": [
    {
     "name": "stdout",
     "output_type": "stream",
     "text": [
      "x_input: [[0.00338567 0.00391735 0.0036322  0.00249936 0.00189305]\n",
      " [0.00391735 0.0036322  0.00249936 0.00189305 0.00150909]\n",
      " [0.0036322  0.00249936 0.00189305 0.00150909 0.00226826]\n",
      " [0.00249936 0.00189305 0.00150909 0.00226826 0.00244377]]\n",
      "y: [0.00150909 0.00226826 0.00244377]\n"
     ]
    }
   ],
   "source": [
    "print(\"x_input:\",x_train[0:4])\n",
    "print(\"y:\",y_train[0:3])"
   ]
  },
  {
   "cell_type": "code",
   "execution_count": 13,
   "metadata": {},
   "outputs": [
    {
     "name": "stdout",
     "output_type": "stream",
     "text": [
      "x_train shape (1415, 1, 5)\n",
      "x_test shape (604, 1, 5)\n"
     ]
    }
   ],
   "source": [
    "x_train = np.reshape(x_train,(x_train.shape[0],1,x_train.shape[1]))\n",
    "x_test = np.reshape(x_test,(x_test.shape[0],1,x_test.shape[1]))\n",
    "print('x_train shape', x_train.shape)\n",
    "print('x_test shape', x_test.shape)"
   ]
  },
  {
   "cell_type": "markdown",
   "metadata": {},
   "source": [
    "# Build Model"
   ]
  },
  {
   "cell_type": "code",
   "execution_count": 14,
   "metadata": {},
   "outputs": [
    {
     "name": "stdout",
     "output_type": "stream",
     "text": [
      "_________________________________________________________________\n",
      "Layer (type)                 Output Shape              Param #   \n",
      "=================================================================\n",
      "lstm_1 (LSTM)                (None, 100)               42400     \n",
      "_________________________________________________________________\n",
      "dense_1 (Dense)              (None, 1)                 101       \n",
      "=================================================================\n",
      "Total params: 42,501\n",
      "Trainable params: 42,501\n",
      "Non-trainable params: 0\n",
      "_________________________________________________________________\n"
     ]
    }
   ],
   "source": [
    "from keras.models import Sequential\n",
    "from keras.layers import Dense,LSTM,Dropout, Flatten,Conv2D, MaxPooling2D, Activation\n",
    "from keras.layers.normalization import BatchNormalization\n",
    "from keras import optimizers\n",
    "import keras\n",
    "\n",
    "model_1 = Sequential()\n",
    "model_1.add(LSTM(100, input_shape=(1,x_train.shape[2])))\n",
    "model_1.add(Dense(1))\n",
    "model_1.compile(loss='mae', optimizer='adam')\n",
    "model_1.summary()"
   ]
  },
  {
   "cell_type": "code",
   "execution_count": 15,
   "metadata": {},
   "outputs": [
    {
     "name": "stdout",
     "output_type": "stream",
     "text": [
      "Train on 1415 samples, validate on 604 samples\n",
      "Epoch 1/100\n",
      "1415/1415 [==============================] - 1s 611us/step - loss: 0.0105 - val_loss: 0.2864\n",
      "Epoch 2/100\n",
      "1415/1415 [==============================] - 0s 32us/step - loss: 0.0107 - val_loss: 0.2567\n",
      "Epoch 3/100\n",
      "1415/1415 [==============================] - 0s 34us/step - loss: 0.0087 - val_loss: 0.2239\n",
      "Epoch 4/100\n",
      "1415/1415 [==============================] - 0s 35us/step - loss: 0.0078 - val_loss: 0.1903\n",
      "Epoch 5/100\n",
      "1415/1415 [==============================] - 0s 36us/step - loss: 0.0065 - val_loss: 0.1533\n",
      "Epoch 6/100\n",
      "1415/1415 [==============================] - 0s 35us/step - loss: 0.0056 - val_loss: 0.1173\n",
      "Epoch 7/100\n",
      "1415/1415 [==============================] - 0s 32us/step - loss: 0.0042 - val_loss: 0.0740\n",
      "Epoch 8/100\n",
      "1415/1415 [==============================] - 0s 32us/step - loss: 0.0036 - val_loss: 0.0386\n",
      "Epoch 9/100\n",
      "1415/1415 [==============================] - 0s 33us/step - loss: 0.0021 - val_loss: 0.0230\n",
      "Epoch 10/100\n",
      "1415/1415 [==============================] - 0s 32us/step - loss: 0.0018 - val_loss: 0.0413\n",
      "Epoch 11/100\n",
      "1415/1415 [==============================] - 0s 32us/step - loss: 0.0014 - val_loss: 0.0321\n",
      "Epoch 12/100\n",
      "1415/1415 [==============================] - 0s 34us/step - loss: 9.5753e-04 - val_loss: 0.0242\n",
      "Epoch 13/100\n",
      "1415/1415 [==============================] - 0s 33us/step - loss: 9.5767e-04 - val_loss: 0.0277\n",
      "Epoch 14/100\n",
      "1415/1415 [==============================] - 0s 33us/step - loss: 0.0013 - val_loss: 0.0280\n",
      "Epoch 15/100\n",
      "1415/1415 [==============================] - 0s 34us/step - loss: 9.3965e-04 - val_loss: 0.0250\n",
      "Epoch 16/100\n",
      "1415/1415 [==============================] - 0s 33us/step - loss: 0.0012 - val_loss: 0.0245\n",
      "Epoch 17/100\n",
      "1415/1415 [==============================] - 0s 34us/step - loss: 0.0010 - val_loss: 0.0301\n",
      "Epoch 18/100\n",
      "1415/1415 [==============================] - 0s 34us/step - loss: 0.0014 - val_loss: 0.0302\n",
      "Epoch 19/100\n",
      "1415/1415 [==============================] - 0s 36us/step - loss: 9.7243e-04 - val_loss: 0.0229\n",
      "Epoch 20/100\n",
      "1415/1415 [==============================] - 0s 37us/step - loss: 9.9969e-04 - val_loss: 0.0286\n",
      "Epoch 21/100\n",
      "1415/1415 [==============================] - 0s 34us/step - loss: 0.0013 - val_loss: 0.0286\n",
      "Epoch 22/100\n",
      "1415/1415 [==============================] - 0s 39us/step - loss: 9.7017e-04 - val_loss: 0.0225\n",
      "Epoch 23/100\n",
      "1415/1415 [==============================] - 0s 36us/step - loss: 0.0011 - val_loss: 0.0241\n",
      "Epoch 24/100\n",
      "1415/1415 [==============================] - 0s 36us/step - loss: 9.7607e-04 - val_loss: 0.0325\n",
      "Epoch 25/100\n",
      "1415/1415 [==============================] - 0s 32us/step - loss: 0.0012 - val_loss: 0.0285\n",
      "Epoch 26/100\n",
      "1415/1415 [==============================] - 0s 31us/step - loss: 9.5389e-04 - val_loss: 0.0225\n",
      "Epoch 27/100\n",
      "1415/1415 [==============================] - 0s 30us/step - loss: 0.0010 - val_loss: 0.0268\n",
      "Epoch 28/100\n",
      "1415/1415 [==============================] - 0s 31us/step - loss: 0.0010 - val_loss: 0.0343\n",
      "Epoch 29/100\n",
      "1415/1415 [==============================] - 0s 32us/step - loss: 0.0012 - val_loss: 0.0294\n",
      "Epoch 30/100\n",
      "1415/1415 [==============================] - 0s 30us/step - loss: 0.0010 - val_loss: 0.0227\n",
      "Epoch 31/100\n",
      "1415/1415 [==============================] - 0s 31us/step - loss: 0.0010 - val_loss: 0.0268\n",
      "Epoch 32/100\n",
      "1415/1415 [==============================] - 0s 31us/step - loss: 0.0012 - val_loss: 0.0291\n",
      "Epoch 33/100\n",
      "1415/1415 [==============================] - 0s 31us/step - loss: 0.0011 - val_loss: 0.0264\n",
      "Epoch 34/100\n",
      "1415/1415 [==============================] - 0s 30us/step - loss: 0.0012 - val_loss: 0.0251\n",
      "Epoch 35/100\n",
      "1415/1415 [==============================] - 0s 31us/step - loss: 0.0010 - val_loss: 0.0347\n",
      "Epoch 36/100\n",
      "1415/1415 [==============================] - 0s 30us/step - loss: 0.0015 - val_loss: 0.0321\n",
      "Epoch 37/100\n",
      "1415/1415 [==============================] - 0s 30us/step - loss: 9.7658e-04 - val_loss: 0.0227\n",
      "Epoch 38/100\n",
      "1415/1415 [==============================] - 0s 33us/step - loss: 0.0011 - val_loss: 0.0244\n",
      "Epoch 39/100\n",
      "1415/1415 [==============================] - 0s 32us/step - loss: 0.0011 - val_loss: 0.0301\n",
      "Epoch 40/100\n",
      "1415/1415 [==============================] - 0s 33us/step - loss: 0.0010 - val_loss: 0.0249\n",
      "Epoch 41/100\n",
      "1415/1415 [==============================] - 0s 37us/step - loss: 9.8366e-04 - val_loss: 0.0315\n",
      "Epoch 42/100\n",
      "1415/1415 [==============================] - 0s 32us/step - loss: 9.9630e-04 - val_loss: 0.0382\n",
      "Epoch 43/100\n",
      "1415/1415 [==============================] - 0s 31us/step - loss: 0.0012 - val_loss: 0.0317\n",
      "Epoch 44/100\n",
      "1415/1415 [==============================] - 0s 31us/step - loss: 0.0011 - val_loss: 0.0250\n",
      "Epoch 45/100\n",
      "1415/1415 [==============================] - 0s 35us/step - loss: 0.0015 - val_loss: 0.0214\n",
      "Epoch 46/100\n",
      "1415/1415 [==============================] - 0s 34us/step - loss: 0.0020 - val_loss: 0.0211\n",
      "Epoch 47/100\n",
      "1415/1415 [==============================] - 0s 30us/step - loss: 0.0049 - val_loss: 0.0213\n",
      "Epoch 48/100\n",
      "1415/1415 [==============================] - 0s 30us/step - loss: 0.0021 - val_loss: 0.0395\n",
      "Epoch 49/100\n",
      "1415/1415 [==============================] - 0s 29us/step - loss: 0.0016 - val_loss: 0.0453\n",
      "Epoch 50/100\n",
      "1415/1415 [==============================] - 0s 29us/step - loss: 0.0011 - val_loss: 0.0244\n",
      "Epoch 51/100\n",
      "1415/1415 [==============================] - 0s 31us/step - loss: 0.0010 - val_loss: 0.0266\n",
      "Epoch 52/100\n",
      "1415/1415 [==============================] - 0s 31us/step - loss: 0.0011 - val_loss: 0.0305\n",
      "Epoch 53/100\n",
      "1415/1415 [==============================] - 0s 31us/step - loss: 8.8732e-04 - val_loss: 0.0303\n",
      "Epoch 54/100\n",
      "1415/1415 [==============================] - 0s 31us/step - loss: 8.8457e-04 - val_loss: 0.0374\n",
      "Epoch 55/100\n",
      "1415/1415 [==============================] - 0s 30us/step - loss: 0.0011 - val_loss: 0.0310\n",
      "Epoch 56/100\n",
      "1415/1415 [==============================] - 0s 30us/step - loss: 9.3663e-04 - val_loss: 0.0329\n",
      "Epoch 57/100\n",
      "1415/1415 [==============================] - 0s 29us/step - loss: 0.0013 - val_loss: 0.0302\n",
      "Epoch 58/100\n",
      "1415/1415 [==============================] - 0s 31us/step - loss: 0.0010 - val_loss: 0.0368\n",
      "Epoch 59/100\n",
      "1415/1415 [==============================] - 0s 31us/step - loss: 0.0014 - val_loss: 0.0346\n",
      "Epoch 60/100\n",
      "1415/1415 [==============================] - 0s 36us/step - loss: 8.9200e-04 - val_loss: 0.0262\n",
      "Epoch 61/100\n",
      "1415/1415 [==============================] - 0s 33us/step - loss: 0.0011 - val_loss: 0.0284\n",
      "Epoch 62/100\n",
      "1415/1415 [==============================] - 0s 33us/step - loss: 9.5895e-04 - val_loss: 0.0399\n",
      "Epoch 63/100\n",
      "1415/1415 [==============================] - 0s 41us/step - loss: 0.0012 - val_loss: 0.0344\n",
      "Epoch 64/100\n",
      "1415/1415 [==============================] - 0s 36us/step - loss: 8.7550e-04 - val_loss: 0.0351\n",
      "Epoch 65/100\n",
      "1415/1415 [==============================] - 0s 30us/step - loss: 9.2876e-04 - val_loss: 0.0407\n",
      "Epoch 66/100\n",
      "1415/1415 [==============================] - 0s 31us/step - loss: 0.0012 - val_loss: 0.0354\n",
      "Epoch 67/100\n",
      "1415/1415 [==============================] - 0s 31us/step - loss: 9.5462e-04 - val_loss: 0.0377\n",
      "Epoch 68/100\n",
      "1415/1415 [==============================] - 0s 33us/step - loss: 0.0011 - val_loss: 0.0365\n",
      "Epoch 69/100\n",
      "1415/1415 [==============================] - 0s 36us/step - loss: 0.0013 - val_loss: 0.0400\n",
      "Epoch 70/100\n",
      "1415/1415 [==============================] - 0s 31us/step - loss: 0.0016 - val_loss: 0.0387\n",
      "Epoch 71/100\n",
      "1415/1415 [==============================] - 0s 33us/step - loss: 9.6369e-04 - val_loss: 0.0361\n",
      "Epoch 72/100\n",
      "1415/1415 [==============================] - 0s 33us/step - loss: 0.0012 - val_loss: 0.0361\n",
      "Epoch 73/100\n",
      "1415/1415 [==============================] - 0s 33us/step - loss: 0.0012 - val_loss: 0.0392\n",
      "Epoch 74/100\n",
      "1415/1415 [==============================] - 0s 31us/step - loss: 0.0017 - val_loss: 0.0366\n",
      "Epoch 75/100\n",
      "1415/1415 [==============================] - 0s 31us/step - loss: 0.0011 - val_loss: 0.0308\n",
      "Epoch 76/100\n",
      "1415/1415 [==============================] - 0s 31us/step - loss: 0.0012 - val_loss: 0.0337\n",
      "Epoch 77/100\n",
      "1415/1415 [==============================] - 0s 32us/step - loss: 9.9288e-04 - val_loss: 0.0290\n"
     ]
    },
    {
     "name": "stdout",
     "output_type": "stream",
     "text": [
      "Epoch 78/100\n",
      "1415/1415 [==============================] - 0s 31us/step - loss: 0.0012 - val_loss: 0.0260\n",
      "Epoch 79/100\n",
      "1415/1415 [==============================] - 0s 29us/step - loss: 9.8276e-04 - val_loss: 0.0326\n",
      "Epoch 80/100\n",
      "1415/1415 [==============================] - 0s 31us/step - loss: 0.0012 - val_loss: 0.0326\n",
      "Epoch 81/100\n",
      "1415/1415 [==============================] - 0s 33us/step - loss: 0.0010 - val_loss: 0.0308\n",
      "Epoch 82/100\n",
      "1415/1415 [==============================] - 0s 32us/step - loss: 0.0018 - val_loss: 0.0303\n",
      "Epoch 83/100\n",
      "1415/1415 [==============================] - 0s 34us/step - loss: 0.0025 - val_loss: 0.0256\n",
      "Epoch 84/100\n",
      "1415/1415 [==============================] - 0s 41us/step - loss: 0.0037 - val_loss: 0.0313\n",
      "Epoch 85/100\n",
      "1415/1415 [==============================] - 0s 35us/step - loss: 0.0019 - val_loss: 0.0523\n",
      "Epoch 86/100\n",
      "1415/1415 [==============================] - 0s 33us/step - loss: 0.0016 - val_loss: 0.0513\n",
      "Epoch 87/100\n",
      "1415/1415 [==============================] - 0s 33us/step - loss: 0.0011 - val_loss: 0.0319\n",
      "Epoch 88/100\n",
      "1415/1415 [==============================] - 0s 33us/step - loss: 8.4328e-04 - val_loss: 0.0329\n",
      "Epoch 89/100\n",
      "1415/1415 [==============================] - 0s 34us/step - loss: 9.7018e-04 - val_loss: 0.0366\n",
      "Epoch 90/100\n",
      "1415/1415 [==============================] - 0s 32us/step - loss: 0.0010 - val_loss: 0.0320\n",
      "Epoch 91/100\n",
      "1415/1415 [==============================] - 0s 34us/step - loss: 9.6765e-04 - val_loss: 0.0333\n",
      "Epoch 92/100\n",
      "1415/1415 [==============================] - 0s 32us/step - loss: 8.9319e-04 - val_loss: 0.0430\n",
      "Epoch 93/100\n",
      "1415/1415 [==============================] - 0s 34us/step - loss: 0.0011 - val_loss: 0.0374\n",
      "Epoch 94/100\n",
      "1415/1415 [==============================] - 0s 35us/step - loss: 8.8478e-04 - val_loss: 0.0314\n",
      "Epoch 95/100\n",
      "1415/1415 [==============================] - 0s 33us/step - loss: 8.8403e-04 - val_loss: 0.0415\n",
      "Epoch 96/100\n",
      "1415/1415 [==============================] - 0s 32us/step - loss: 9.9644e-04 - val_loss: 0.0364\n",
      "Epoch 97/100\n",
      "1415/1415 [==============================] - 0s 32us/step - loss: 9.4756e-04 - val_loss: 0.0305\n",
      "Epoch 98/100\n",
      "1415/1415 [==============================] - 0s 31us/step - loss: 0.0015 - val_loss: 0.0283\n",
      "Epoch 99/100\n",
      "1415/1415 [==============================] - 0s 32us/step - loss: 0.0031 - val_loss: 0.0254\n",
      "Epoch 100/100\n",
      "1415/1415 [==============================] - 0s 32us/step - loss: 0.0018 - val_loss: 0.0482\n"
     ]
    }
   ],
   "source": [
    "history = model_1.fit(x_train, y_train, epochs=100, batch_size=128, \n",
    "                    validation_data=(x_test, y_test), verbose=1, shuffle=False)"
   ]
  },
  {
   "cell_type": "code",
   "execution_count": 16,
   "metadata": {},
   "outputs": [
    {
     "data": {
      "image/png": "[encoded data removed]",
      "text/plain": [
       "<Figure size 432x288 with 1 Axes>"
      ]
     },
     "metadata": {},
     "output_type": "display_data"
    }
   ],
   "source": [
    "loss = history.history['loss']\n",
    "val_loss = history.history['val_loss']\n",
    "\n",
    "epochs = range(len(loss))\n",
    "\n",
    "plt.figure()\n",
    "\n",
    "plt.plot(epochs, loss, 'bo', label='Training loss')\n",
    "plt.plot(epochs, val_loss, 'b', label='Validation loss')\n",
    "plt.title('Training and validation loss')\n",
    "plt.legend()\n",
    "\n",
    "plt.show()"
   ]
  },
  {
   "cell_type": "code",
   "execution_count": 17,
   "metadata": {},
   "outputs": [
    {
     "data": {
      "image/png": "[encoded data removed]",
      "text/plain": [
       "<Figure size 432x288 with 1 Axes>"
      ]
     },
     "metadata": {},
     "output_type": "display_data"
    }
   ],
   "source": [
    "yhat = model_1.predict(x_test)\n",
    "plt.plot(yhat, label='predict')\n",
    "plt.plot(y_test, label='true')\n",
    "plt.legend()\n",
    "plt.show()"
   ]
  },
  {
   "cell_type": "code",
   "execution_count": 18,
   "metadata": {},
   "outputs": [
    {
     "name": "stdout",
     "output_type": "stream",
     "text": [
      "Test RMSE: 1426.077\n"
     ]
    }
   ],
   "source": [
    "yhat_inverse = scaler.inverse_transform(yhat.reshape(-1, 1))\n",
    "testY_inverse = scaler.inverse_transform(y_test.reshape(-1, 1))\n",
    "rmse = sqrt(mean_squared_error(testY_inverse, yhat_inverse))\n",
    "print('Test RMSE: %.3f' % rmse)"
   ]
  },
  {
   "cell_type": "markdown",
   "metadata": {},
   "source": [
    "### Add a dropout layer"
   ]
  },
  {
   "cell_type": "code",
   "execution_count": 19,
   "metadata": {},
   "outputs": [],
   "source": [
    "from keras import backend as K\n",
    "K.clear_session()"
   ]
  },
  {
   "cell_type": "code",
   "execution_count": 20,
   "metadata": {},
   "outputs": [
    {
     "name": "stdout",
     "output_type": "stream",
     "text": [
      "_________________________________________________________________\n",
      "Layer (type)                 Output Shape              Param #   \n",
      "=================================================================\n",
      "lstm_1 (LSTM)                (None, 100)               42400     \n",
      "_________________________________________________________________\n",
      "dropout_1 (Dropout)          (None, 100)               0         \n",
      "_________________________________________________________________\n",
      "dense_1 (Dense)              (None, 1)                 101       \n",
      "=================================================================\n",
      "Total params: 42,501\n",
      "Trainable params: 42,501\n",
      "Non-trainable params: 0\n",
      "_________________________________________________________________\n"
     ]
    }
   ],
   "source": [
    "model_2 = Sequential()\n",
    "model_2.add(LSTM(100, input_shape=(1, x_train.shape[2])))\n",
    "model_2.add(Dropout(0.2))\n",
    "model_2.add(Dense(1))\n",
    "model_2.compile(loss='mae', optimizer='adam')\n",
    "model_2.summary()"
   ]
  },
  {
   "cell_type": "code",
   "execution_count": 21,
   "metadata": {},
   "outputs": [
    {
     "name": "stdout",
     "output_type": "stream",
     "text": [
      "Train on 1415 samples, validate on 604 samples\n",
      "Epoch 1/100\n",
      "1415/1415 [==============================] - 1s 708us/step - loss: 0.0105 - val_loss: 0.2868\n",
      "Epoch 2/100\n",
      "1415/1415 [==============================] - 0s 32us/step - loss: 0.0110 - val_loss: 0.2613\n",
      "Epoch 3/100\n",
      "1415/1415 [==============================] - 0s 32us/step - loss: 0.0090 - val_loss: 0.2337\n",
      "Epoch 4/100\n",
      "1415/1415 [==============================] - 0s 35us/step - loss: 0.0079 - val_loss: 0.2008\n",
      "Epoch 5/100\n",
      "1415/1415 [==============================] - 0s 37us/step - loss: 0.0071 - val_loss: 0.1690\n",
      "Epoch 6/100\n",
      "1415/1415 [==============================] - 0s 32us/step - loss: 0.0060 - val_loss: 0.1341\n",
      "Epoch 7/100\n",
      "1415/1415 [==============================] - 0s 36us/step - loss: 0.0050 - val_loss: 0.0969\n",
      "Epoch 8/100\n",
      "1415/1415 [==============================] - 0s 33us/step - loss: 0.0039 - val_loss: 0.0578\n",
      "Epoch 9/100\n",
      "1415/1415 [==============================] - 0s 42us/step - loss: 0.0028 - val_loss: 0.0249\n",
      "Epoch 10/100\n",
      "1415/1415 [==============================] - 0s 50us/step - loss: 0.0020 - val_loss: 0.0287\n",
      "Epoch 11/100\n",
      "1415/1415 [==============================] - 0s 35us/step - loss: 0.0016 - val_loss: 0.0364\n",
      "Epoch 12/100\n",
      "1415/1415 [==============================] - 0s 34us/step - loss: 0.0014 - val_loss: 0.0261\n",
      "Epoch 13/100\n",
      "1415/1415 [==============================] - 0s 35us/step - loss: 0.0014 - val_loss: 0.0238\n",
      "Epoch 14/100\n",
      "1415/1415 [==============================] - 0s 33us/step - loss: 0.0015 - val_loss: 0.0254\n",
      "Epoch 15/100\n",
      "1415/1415 [==============================] - 0s 36us/step - loss: 0.0015 - val_loss: 0.0252\n",
      "Epoch 16/100\n",
      "1415/1415 [==============================] - 0s 33us/step - loss: 0.0014 - val_loss: 0.0267\n",
      "Epoch 17/100\n",
      "1415/1415 [==============================] - 0s 31us/step - loss: 0.0014 - val_loss: 0.0289\n",
      "Epoch 18/100\n",
      "1415/1415 [==============================] - 0s 33us/step - loss: 0.0014 - val_loss: 0.0233\n",
      "Epoch 19/100\n",
      "1415/1415 [==============================] - 0s 33us/step - loss: 0.0015 - val_loss: 0.0228\n",
      "Epoch 20/100\n",
      "1415/1415 [==============================] - 0s 33us/step - loss: 0.0016 - val_loss: 0.0235\n",
      "Epoch 21/100\n",
      "1415/1415 [==============================] - 0s 33us/step - loss: 0.0015 - val_loss: 0.0257\n",
      "Epoch 22/100\n",
      "1415/1415 [==============================] - 0s 32us/step - loss: 0.0013 - val_loss: 0.0259\n",
      "Epoch 23/100\n",
      "1415/1415 [==============================] - 0s 30us/step - loss: 0.0015 - val_loss: 0.0247\n",
      "Epoch 24/100\n",
      "1415/1415 [==============================] - 0s 32us/step - loss: 0.0019 - val_loss: 0.0250\n",
      "Epoch 25/100\n",
      "1415/1415 [==============================] - 0s 32us/step - loss: 0.0017 - val_loss: 0.0204\n",
      "Epoch 26/100\n",
      "1415/1415 [==============================] - 0s 35us/step - loss: 0.0016 - val_loss: 0.0202\n",
      "Epoch 27/100\n",
      "1415/1415 [==============================] - 0s 35us/step - loss: 0.0019 - val_loss: 0.0202\n",
      "Epoch 28/100\n",
      "1415/1415 [==============================] - 0s 32us/step - loss: 0.0039 - val_loss: 0.0225\n",
      "Epoch 29/100\n",
      "1415/1415 [==============================] - 0s 32us/step - loss: 0.0021 - val_loss: 0.0286\n",
      "Epoch 30/100\n",
      "1415/1415 [==============================] - 0s 38us/step - loss: 0.0017 - val_loss: 0.0341\n",
      "Epoch 31/100\n",
      "1415/1415 [==============================] - 0s 33us/step - loss: 0.0012 - val_loss: 0.0221\n",
      "Epoch 32/100\n",
      "1415/1415 [==============================] - 0s 35us/step - loss: 0.0013 - val_loss: 0.0216\n",
      "Epoch 33/100\n",
      "1415/1415 [==============================] - 0s 33us/step - loss: 0.0012 - val_loss: 0.0227\n",
      "Epoch 34/100\n",
      "1415/1415 [==============================] - 0s 32us/step - loss: 0.0013 - val_loss: 0.0225\n",
      "Epoch 35/100\n",
      "1415/1415 [==============================] - 0s 29us/step - loss: 0.0016 - val_loss: 0.0225\n",
      "Epoch 36/100\n",
      "1415/1415 [==============================] - 0s 31us/step - loss: 0.0014 - val_loss: 0.0201\n",
      "Epoch 37/100\n",
      "1415/1415 [==============================] - 0s 30us/step - loss: 0.0013 - val_loss: 0.0216\n",
      "Epoch 38/100\n",
      "1415/1415 [==============================] - 0s 34us/step - loss: 0.0012 - val_loss: 0.0280\n",
      "Epoch 39/100\n",
      "1415/1415 [==============================] - 0s 34us/step - loss: 0.0015 - val_loss: 0.0289\n",
      "Epoch 40/100\n",
      "1415/1415 [==============================] - 0s 32us/step - loss: 0.0013 - val_loss: 0.0210\n",
      "Epoch 41/100\n",
      "1415/1415 [==============================] - 0s 31us/step - loss: 0.0017 - val_loss: 0.0206\n",
      "Epoch 42/100\n",
      "1415/1415 [==============================] - 0s 30us/step - loss: 0.0014 - val_loss: 0.0197\n",
      "Epoch 43/100\n",
      "1415/1415 [==============================] - 0s 30us/step - loss: 0.0013 - val_loss: 0.0194\n",
      "Epoch 44/100\n",
      "1415/1415 [==============================] - 0s 28us/step - loss: 0.0014 - val_loss: 0.0194\n",
      "Epoch 45/100\n",
      "1415/1415 [==============================] - 0s 30us/step - loss: 0.0014 - val_loss: 0.0208\n",
      "Epoch 46/100\n",
      "1415/1415 [==============================] - 0s 29us/step - loss: 0.0013 - val_loss: 0.0228\n",
      "Epoch 47/100\n",
      "1415/1415 [==============================] - 0s 32us/step - loss: 0.0011 - val_loss: 0.0248\n",
      "Epoch 48/100\n",
      "1415/1415 [==============================] - 0s 29us/step - loss: 0.0012 - val_loss: 0.0228\n",
      "Epoch 49/100\n",
      "1415/1415 [==============================] - 0s 32us/step - loss: 0.0012 - val_loss: 0.0239\n",
      "Epoch 50/100\n",
      "1415/1415 [==============================] - 0s 34us/step - loss: 0.0012 - val_loss: 0.0234\n",
      "Epoch 51/100\n",
      "1415/1415 [==============================] - 0s 35us/step - loss: 0.0012 - val_loss: 0.0215\n",
      "Epoch 52/100\n",
      "1415/1415 [==============================] - 0s 36us/step - loss: 0.0015 - val_loss: 0.0200\n",
      "Epoch 53/100\n",
      "1415/1415 [==============================] - 0s 35us/step - loss: 0.0013 - val_loss: 0.0207\n",
      "Epoch 54/100\n",
      "1415/1415 [==============================] - 0s 30us/step - loss: 0.0012 - val_loss: 0.0234\n",
      "Epoch 55/100\n",
      "1415/1415 [==============================] - 0s 30us/step - loss: 0.0012 - val_loss: 0.0213\n",
      "Epoch 56/100\n",
      "1415/1415 [==============================] - 0s 30us/step - loss: 0.0015 - val_loss: 0.0201\n",
      "Epoch 57/100\n",
      "1415/1415 [==============================] - 0s 29us/step - loss: 0.0012 - val_loss: 0.0212\n",
      "Epoch 58/100\n",
      "1415/1415 [==============================] - 0s 29us/step - loss: 0.0014 - val_loss: 0.0217\n",
      "Epoch 59/100\n",
      "1415/1415 [==============================] - 0s 30us/step - loss: 0.0016 - val_loss: 0.0204\n",
      "Epoch 60/100\n",
      "1415/1415 [==============================] - 0s 29us/step - loss: 0.0019 - val_loss: 0.0273\n",
      "Epoch 61/100\n",
      "1415/1415 [==============================] - 0s 31us/step - loss: 0.0014 - val_loss: 0.0191\n",
      "Epoch 62/100\n",
      "1415/1415 [==============================] - 0s 35us/step - loss: 0.0012 - val_loss: 0.0207\n",
      "Epoch 63/100\n",
      "1415/1415 [==============================] - 0s 32us/step - loss: 0.0013 - val_loss: 0.0228\n",
      "Epoch 64/100\n",
      "1415/1415 [==============================] - 0s 32us/step - loss: 0.0012 - val_loss: 0.0212\n",
      "Epoch 65/100\n",
      "1415/1415 [==============================] - 0s 32us/step - loss: 0.0015 - val_loss: 0.0209\n",
      "Epoch 66/100\n",
      "1415/1415 [==============================] - 0s 33us/step - loss: 0.0011 - val_loss: 0.0209\n",
      "Epoch 67/100\n",
      "1415/1415 [==============================] - 0s 33us/step - loss: 0.0015 - val_loss: 0.0204\n",
      "Epoch 68/100\n",
      "1415/1415 [==============================] - 0s 35us/step - loss: 0.0012 - val_loss: 0.0202\n",
      "Epoch 69/100\n",
      "1415/1415 [==============================] - 0s 34us/step - loss: 0.0013 - val_loss: 0.0199\n",
      "Epoch 70/100\n",
      "1415/1415 [==============================] - 0s 31us/step - loss: 0.0013 - val_loss: 0.0193\n",
      "Epoch 71/100\n",
      "1415/1415 [==============================] - 0s 30us/step - loss: 0.0019 - val_loss: 0.0191\n",
      "Epoch 72/100\n",
      "1415/1415 [==============================] - 0s 35us/step - loss: 0.0018 - val_loss: 0.0182\n",
      "Epoch 73/100\n",
      "1415/1415 [==============================] - 0s 45us/step - loss: 0.0035 - val_loss: 0.0222\n",
      "Epoch 74/100\n",
      "1415/1415 [==============================] - 0s 32us/step - loss: 0.0021 - val_loss: 0.0221\n",
      "Epoch 75/100\n",
      "1415/1415 [==============================] - 0s 32us/step - loss: 0.0019 - val_loss: 0.0237\n",
      "Epoch 76/100\n",
      "1415/1415 [==============================] - 0s 31us/step - loss: 0.0011 - val_loss: 0.0182\n",
      "Epoch 77/100\n",
      "1415/1415 [==============================] - 0s 32us/step - loss: 0.0012 - val_loss: 0.0181\n",
      "Epoch 78/100\n"
     ]
    },
    {
     "name": "stdout",
     "output_type": "stream",
     "text": [
      "1415/1415 [==============================] - 0s 30us/step - loss: 0.0011 - val_loss: 0.0184\n",
      "Epoch 79/100\n",
      "1415/1415 [==============================] - 0s 31us/step - loss: 0.0011 - val_loss: 0.0192\n",
      "Epoch 80/100\n",
      "1415/1415 [==============================] - 0s 31us/step - loss: 0.0011 - val_loss: 0.0190\n",
      "Epoch 81/100\n",
      "1415/1415 [==============================] - 0s 36us/step - loss: 0.0013 - val_loss: 0.0193\n",
      "Epoch 82/100\n",
      "1415/1415 [==============================] - 0s 35us/step - loss: 0.0011 - val_loss: 0.0182\n",
      "Epoch 83/100\n",
      "1415/1415 [==============================] - 0s 35us/step - loss: 0.0015 - val_loss: 0.0188\n",
      "Epoch 84/100\n",
      "1415/1415 [==============================] - 0s 33us/step - loss: 0.0012 - val_loss: 0.0181\n",
      "Epoch 85/100\n",
      "1415/1415 [==============================] - 0s 31us/step - loss: 0.0012 - val_loss: 0.0190\n",
      "Epoch 86/100\n",
      "1415/1415 [==============================] - 0s 32us/step - loss: 0.0017 - val_loss: 0.0196\n",
      "Epoch 87/100\n",
      "1415/1415 [==============================] - 0s 31us/step - loss: 0.0013 - val_loss: 0.0191\n",
      "Epoch 88/100\n",
      "1415/1415 [==============================] - 0s 30us/step - loss: 0.0012 - val_loss: 0.0177\n",
      "Epoch 89/100\n",
      "1415/1415 [==============================] - 0s 33us/step - loss: 0.0013 - val_loss: 0.0178\n",
      "Epoch 90/100\n",
      "1415/1415 [==============================] - 0s 33us/step - loss: 0.0011 - val_loss: 0.0176\n",
      "Epoch 91/100\n",
      "1415/1415 [==============================] - 0s 44us/step - loss: 0.0011 - val_loss: 0.0177\n",
      "Epoch 92/100\n",
      "1415/1415 [==============================] - 0s 33us/step - loss: 0.0011 - val_loss: 0.0177\n",
      "Epoch 93/100\n",
      "1415/1415 [==============================] - 0s 31us/step - loss: 0.0011 - val_loss: 0.0177\n",
      "Epoch 94/100\n",
      "1415/1415 [==============================] - 0s 36us/step - loss: 0.0012 - val_loss: 0.0185\n",
      "Epoch 95/100\n",
      "1415/1415 [==============================] - 0s 39us/step - loss: 0.0011 - val_loss: 0.0179\n",
      "Epoch 96/100\n",
      "1415/1415 [==============================] - 0s 31us/step - loss: 0.0011 - val_loss: 0.0179\n",
      "Epoch 97/100\n",
      "1415/1415 [==============================] - 0s 29us/step - loss: 0.0011 - val_loss: 0.0179\n",
      "Epoch 98/100\n",
      "1415/1415 [==============================] - 0s 30us/step - loss: 0.0011 - val_loss: 0.0182\n",
      "Epoch 99/100\n",
      "1415/1415 [==============================] - 0s 32us/step - loss: 0.0010 - val_loss: 0.0177\n",
      "Epoch 100/100\n",
      "1415/1415 [==============================] - 0s 31us/step - loss: 0.0012 - val_loss: 0.0182\n"
     ]
    }
   ],
   "source": [
    "model_2.compile(loss='mae', optimizer='adam')\n",
    "history = model_2.fit(x_train, y_train, epochs=100, batch_size=128, \n",
    "                    validation_data=(x_test, y_test), verbose=1, shuffle=False)"
   ]
  },
  {
   "cell_type": "code",
   "execution_count": 22,
   "metadata": {},
   "outputs": [
    {
     "data": {
      "image/png": "[encoded data removed]",
      "text/plain": [
       "<Figure size 432x288 with 1 Axes>"
      ]
     },
     "metadata": {},
     "output_type": "display_data"
    }
   ],
   "source": [
    "loss = history.history['loss']\n",
    "val_loss = history.history['val_loss']\n",
    "\n",
    "epochs = range(len(loss))\n",
    "\n",
    "plt.figure()\n",
    "\n",
    "plt.plot(epochs, loss, 'bo', label='Training loss')\n",
    "plt.plot(epochs, val_loss, 'b', label='Validation loss')\n",
    "plt.title('Training and validation loss')\n",
    "plt.legend()\n",
    "\n",
    "plt.show()"
   ]
  },
  {
   "cell_type": "code",
   "execution_count": 23,
   "metadata": {},
   "outputs": [
    {
     "data": {
      "image/png": "[encoded data removed]",
      "text/plain": [
       "<Figure size 432x288 with 1 Axes>"
      ]
     },
     "metadata": {},
     "output_type": "display_data"
    }
   ],
   "source": [
    "yhat = model_2.predict(x_test)\n",
    "plt.plot(yhat, label='predict')\n",
    "plt.plot(y_test, label='true')\n",
    "plt.legend()\n",
    "plt.show()"
   ]
  },
  {
   "cell_type": "code",
   "execution_count": 24,
   "metadata": {},
   "outputs": [
    {
     "name": "stdout",
     "output_type": "stream",
     "text": [
      "Test RMSE: 613.000\n"
     ]
    }
   ],
   "source": [
    "yhat_inverse = scaler.inverse_transform(yhat.reshape(-1, 1))\n",
    "testY_inverse = scaler.inverse_transform(y_test.reshape(-1, 1))\n",
    "rmse = sqrt(mean_squared_error(testY_inverse, yhat_inverse))\n",
    "print('Test RMSE: %.3f' % rmse)"
   ]
  },
  {
   "cell_type": "code",
   "execution_count": null,
   "metadata": {},
   "outputs": [],
   "source": []
  }
 ],
 "metadata": {
  "kernelspec": {
   "display_name": "Python 3",
   "language": "python",
   "name": "python3"
  },
  "language_info": {
   "codemirror_mode": {
    "name": "ipython",
    "version": 3
   },
   "file_extension": ".py",
   "mimetype": "text/x-python",
   "name": "python",
   "nbconvert_exporter": "python",
   "pygments_lexer": "ipython3",
   "version": "3.6.4"
  }
 },
 "nbformat": 4,
 "nbformat_minor": 2
}
